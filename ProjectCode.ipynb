{
  "cells": [
    {
      "cell_type": "markdown",
      "metadata": {},
      "source": [
        "### Part1: Define Functions"
      ]
    },
    {
      "cell_type": "code",
      "execution_count": 1,
      "metadata": {},
      "outputs": [],
      "source": [
        "# Code to get bond Prices\n",
        "\n",
        "import numpy as np\n",
        "\n",
        "def gamma(kappa, sigma, c2):\n",
        "    \"\"\"Calculate the gamma term in the CIR functions.\"\"\"\n",
        "    return np.sqrt(kappa**2 + 2 * sigma**2 * c2)\n",
        "\n",
        "def A_CIR(t, T, vartheta, sigma, kappa, c2):\n",
        "    \"\"\"Calculate the A term for the CIR model.\"\"\"\n",
        "    gamma_val = gamma(kappa, sigma, c2)\n",
        "    term1 = vartheta * kappa * sigma**-2 * (kappa + gamma_val) * (T - t)\n",
        "    term2 = 2 * vartheta * kappa * sigma**-2 * np.log(1 + (kappa + gamma_val) / (2 * gamma_val) * (np.exp(gamma_val * (T - t)) - 1))\n",
        "    return term1 - term2\n",
        "\n",
        "def B_CIR(t, T, vartheta, sigma, kappa, c2):\n",
        "    \"\"\"Calculate the B term for the CIR model.\"\"\"\n",
        "    gamma_val = gamma(kappa, sigma, c2)\n",
        "    return 2 * c2 * (1 - np.exp(-gamma_val * (T - t))) / (kappa + gamma_val + (kappa + 2 * gamma_val) * np.exp(-gamma_val * (T - t)))\n",
        "\n",
        "def bond_price(t, T, rd_t, alpha, beta, vartheta, sigma, kappa):\n",
        "    \"\"\"Calculate the bond price P(t, T) using the extended CIR model.\"\"\"\n",
        "    A = A_CIR(t, T, beta * vartheta + alpha, beta * sigma, kappa, 1/beta)\n",
        "    B = B_CIR(t, T, beta * vartheta + alpha, beta * sigma, kappa, 1/beta)\n",
        "    price = np.exp((alpha / beta) * (T - t) + A - alpha * B - beta * B * rd_t)\n",
        "    return price\n"
      ]
    },
    {
      "cell_type": "code",
      "execution_count": 2,
      "metadata": {
        "colab": {
          "base_uri": "https://localhost:8080/"
        },
        "id": "l6vhgjfBfGHy",
        "outputId": "305ad4d0-ba46-4739-ecd4-83a67e107d4a"
      },
      "outputs": [
        {
          "name": "stdout",
          "output_type": "stream",
          "text": [
            "Bond price P(0, 5) = 0.7528787576188439\n"
          ]
        }
      ],
      "source": [
        "# Example bond price calculation\n",
        "alpha = 0.0\n",
        "beta = 1\n",
        "vartheta = 0.07\n",
        "sigma = 0.02\n",
        "kappa = 0.9\n",
        "t = 0\n",
        "T = 5\n",
        "rd_t = 0.01\n",
        "\n",
        "# Calculate the bond price\n",
        "price = bond_price(t, T, rd_t, alpha, beta, vartheta, sigma, kappa)\n",
        "print(f\"Bond price P({t}, {T}) = {price}\")\n"
      ]
    },
    {
      "cell_type": "markdown",
      "metadata": {},
      "source": [
        "### Part 2: Calibrate to the three markets"
      ]
    },
    {
      "cell_type": "code",
      "execution_count": 3,
      "metadata": {
        "id": "W5pRcMCIWRB2"
      },
      "outputs": [],
      "source": [
        "# Calibration to FX market data\n",
        "import pandas as pd\n",
        "import numpy as np\n",
        "from scipy.optimize import minimize\n",
        "for i in range\n",
        "\n",
        "\n"
      ]
    },
    {
      "cell_type": "code",
      "execution_count": 4,
      "metadata": {
        "id": "LupEMv1ee4il"
      },
      "outputs": [],
      "source": [
        "# Monte Carlo simuation and Derivative Valuation\n",
        "\n",
        "def monte_carlo_option_valuation(S0, k, k_prime, N, T, delta, num_paths, num_timesteps, alpha, beta, vartheta, sigma_X, sigma_f, sigma_r, kappa):\n",
        "    dt = T / num_timesteps\n",
        "    sqrt_dt = np.sqrt(dt)\n",
        "\n",
        "    # Initialize the paths for Sf_tilde and r_d as floating-point arrays\n",
        "    rd = np.zeros(num_paths, dtype=np.float64)\n",
        "    Sf_tilde = np.full(num_paths, S0, dtype=np.float64)\n",
        "\n",
        "    # Simulate paths\n",
        "    for _ in range(num_timesteps):\n",
        "        dW_X = np.random.normal(0, sqrt_dt, (num_paths, 3))\n",
        "        dW_f = np.random.normal(0, sqrt_dt, (num_paths, 3))\n",
        "        dW_r = np.random.normal(0, sqrt_dt, num_paths)\n",
        "\n",
        "        #Rates\n",
        "        rd += kappa * (vartheta - rd) * dt + sigma_r * np.sqrt(alpha + beta * rd) * dW_r\n",
        "\n",
        "        # Equity - sf_tilde stands for foreign equity in domestic currency (see model formulation)\n",
        "        Sf_tilde += Sf_tilde * (rd * dt + np.dot(dW_f, sigma_f) + np.dot(dW_X, sigma_X))\n",
        "\n",
        "    # Calculate bond prices\n",
        "    P_T_plus_Delta = np.array([bond_price(T, T + delta, rd_t, alpha, beta, vartheta, sigma_X[0], kappa) for rd_t in rd])\n",
        "    P_0_plus_Delta = bond_price(0, T + delta, rd[0], alpha, beta, vartheta, sigma_X[0], kappa)\n",
        "\n",
        "    # Calculate option payoff\n",
        "    payoffs = N * np.maximum(0, (Sf_tilde / S0 - k) * (k_prime - P_T_plus_Delta / P_0_plus_Delta))\n",
        "\n",
        "    discount_factor = np.array([bond_price(0, T, rd_t, alpha, beta, vartheta, sigma_X[0], kappa) for rd_t in rd])\n",
        "    option_value = np.mean(payoffs * discount_factor)\n",
        "\n",
        "    return option_value"
      ]
    },
    {
      "cell_type": "code",
      "execution_count": null,
      "metadata": {
        "id": "alynP0MFJhpC"
      },
      "outputs": [],
      "source": []
    },
    {
      "cell_type": "code",
      "execution_count": 5,
      "metadata": {
        "colab": {
          "base_uri": "https://localhost:8080/"
        },
        "id": "mTYOMS8te88e",
        "outputId": "b2634f66-ce61-4a15-9d79-8b7c07387a22"
      },
      "outputs": [
        {
          "name": "stdout",
          "output_type": "stream",
          "text": [
            "Estimated option value: 0.5242247087086697\n"
          ]
        }
      ],
      "source": [
        "# Test the monte carlo with specified parameters\n",
        "\n",
        "# simulation inputs\n",
        "num_paths = 10000\n",
        "num_timesteps = 250\n",
        "\n",
        "# product input: not to calibrate\n",
        "S0 = 100 # spot in USD at t=0\n",
        "k = 1.00 # equity strike\n",
        "k_prime = 1.00 # rates strike\n",
        "N = 100 # notional\n",
        "T = 1 # T - t, from obs to start of future\n",
        "delta = 0.25 # SOFR future 3 months tenor\n",
        "\n",
        "alpha = 0 # CALIBRATE FROM THE RATES MARKET\n",
        "beta = 1 # CALIBRATE FROM RATES MARKET\n",
        "vartheta = 0.05 # LONG-TERM MEAN: CALIBRATE FROM RATES MARKET\n",
        "kappa = 0.9 # MEAN REVERSION SPEED: CALIBRATE FROM RATES MARKET\n",
        "\n",
        "sigma_X = np.array([0.1, 0.1, 0.1]) # TO CALIBRATE FROM FX MARKET\n",
        "sigma_f = np.array([0.2, 0.2, 0.2]) # TO CALIBRATE FROM FOREIGN EQUITY MARKET\n",
        "sigma_r = 0.02\n",
        "\n",
        "# Calculate the option value\n",
        "option_value = monte_carlo_option_valuation(S0, k, k_prime, N, T, delta, num_paths, num_timesteps, alpha, beta, vartheta, sigma_X, sigma_f, sigma_r, kappa)\n",
        "print(f\"Estimated option value: {option_value}\")"
      ]
    }
  ],
  "metadata": {
    "colab": {
      "provenance": []
    },
    "kernelspec": {
      "display_name": "Python 3",
      "name": "python3"
    },
    "language_info": {
      "codemirror_mode": {
        "name": "ipython",
        "version": 3
      },
      "file_extension": ".py",
      "mimetype": "text/x-python",
      "name": "python",
      "nbconvert_exporter": "python",
      "pygments_lexer": "ipython3",
      "version": "3.11.5"
    }
  },
  "nbformat": 4,
  "nbformat_minor": 0
}
